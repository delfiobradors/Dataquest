{
 "cells": [
  {
   "cell_type": "code",
   "execution_count": 2,
   "metadata": {
    "collapsed": false
   },
   "outputs": [
    {
     "name": "stdout",
     "output_type": "stream",
     "text": [
      "['year,month,date_of_month,day_of_week,births', '1994,1,1,6,8096', '1994,1,2,7,7772', '1994,1,3,1,10142', '1994,1,4,2,11248', '1994,1,5,3,11053', '1994,1,6,4,11406', '1994,1,7,5,11251', '1994,1,8,6,8653', '1994,1,9,7,7910']\n"
     ]
    }
   ],
   "source": [
    "f=open(\"US_births_1994-2003_CDC_NCHS.csv\",\"r\")\n",
    "file_string=f.read()\n",
    "splitted_text=file_string.split(\"\\n\")\n",
    "print(splitted_text[:10])"
   ]
  },
  {
   "cell_type": "markdown",
   "metadata": {},
   "source": [
    "WE read the file and split it on evey \\n (new line) into a list. Each item of the list would be a row.\n",
    "\n",
    "Now we are making a list of lists, by splitting each item of the list. We also convert everything into integers and delete the header.\n",
    "\n",
    "We will be creating a funtion to do so"
   ]
  },
  {
   "cell_type": "code",
   "execution_count": 3,
   "metadata": {
    "collapsed": false
   },
   "outputs": [
    {
     "name": "stdout",
     "output_type": "stream",
     "text": [
      "[[1994, 1, 1, 6, 8096], [1994, 1, 2, 7, 7772], [1994, 1, 3, 1, 10142], [1994, 1, 4, 2, 11248], [1994, 1, 5, 3, 11053], [1994, 1, 6, 4, 11406], [1994, 1, 7, 5, 11251], [1994, 1, 8, 6, 8653], [1994, 1, 9, 7, 7910], [1994, 1, 10, 1, 10498]]\n"
     ]
    }
   ],
   "source": [
    "def read_csv(filename):\n",
    "    f=open(filename,\"r\")\n",
    "    s=f.read()\n",
    "    string_list=s.split(\"\\n\")\n",
    "    #remove header row\n",
    "    string_list=string_list[1:]\n",
    "    final_list=[]\n",
    "    for item in string_list:\n",
    "        int_fields=[]\n",
    "        #split each line\n",
    "        string_fields=item.split(\",\")\n",
    "        #every item of that line is converted into an integer\n",
    "        for item2 in string_fields:\n",
    "            int_fields.append(int(item2))\n",
    "        #all integers appended to final list\n",
    "        final_list.append(int_fields)\n",
    "    #function returns final_list\n",
    "    return final_list\n",
    "cdc_list=read_csv(\"US_births_1994-2003_CDC_NCHS.csv\")\n",
    "print(cdc_list[:10])"
   ]
  },
  {
   "cell_type": "markdown",
   "metadata": {},
   "source": [
    "Now we are going to create a function that groups by month."
   ]
  },
  {
   "cell_type": "code",
   "execution_count": 4,
   "metadata": {
    "collapsed": false
   },
   "outputs": [
    {
     "name": "stdout",
     "output_type": "stream",
     "text": [
      "{1: 3232517, 2: 3018140, 3: 3322069, 4: 3185314, 5: 3350907, 6: 3296530, 7: 3498783, 8: 3525858, 9: 3439698, 10: 3378814, 11: 3171647, 12: 3301860}\n"
     ]
    }
   ],
   "source": [
    "def months_births(data):\n",
    "    births_per_month={}\n",
    "    for item in data:\n",
    "        #we extract the values we will be working with\n",
    "        month=item[1]\n",
    "        births=item[4]\n",
    "        #check if the month already exists\n",
    "        if month in births_per_month:\n",
    "            #if it is, we add the births to that month\n",
    "            births_per_month[month]=births_per_month[month]+births\n",
    "        else:\n",
    "            #if it is not there, we add the key an initiate value with the biths number\n",
    "            births_per_month[month]=births\n",
    "    #function returns grouped dictionary\n",
    "    return births_per_month\n",
    "#now let's use the function\n",
    "cdc_month_births=months_births(cdc_list)\n",
    "print (cdc_month_births)"
   ]
  },
  {
   "cell_type": "markdown",
   "metadata": {},
   "source": [
    "Cool, it works! Now let's do it by day of week"
   ]
  },
  {
   "cell_type": "code",
   "execution_count": 5,
   "metadata": {
    "collapsed": false
   },
   "outputs": [
    {
     "name": "stdout",
     "output_type": "stream",
     "text": [
      "{1: 5789166, 2: 6446196, 3: 6322855, 4: 6288429, 5: 6233657, 6: 4562111, 7: 4079723}\n"
     ]
    }
   ],
   "source": [
    "def dow_births(data):\n",
    "    births_per_day={}\n",
    "    for item in data:\n",
    "        #we extract the values we will be working with\n",
    "        dow=item[3]\n",
    "        births=item[4]\n",
    "        #check if the day of week already exists\n",
    "        if dow in births_per_day:\n",
    "            #if it is, we add the births to that day\n",
    "            births_per_day[dow]=births_per_day[dow]+births\n",
    "        else:\n",
    "            #if it is not there, we add the key an initiate value with the biths number\n",
    "            births_per_day[dow]=births\n",
    "    #function returns grouped dictionary\n",
    "    return births_per_day\n",
    "#use the function!\n",
    "cdc_day_births=dow_births(cdc_list)\n",
    "print(cdc_day_births)\n",
    "    "
   ]
  },
  {
   "cell_type": "markdown",
   "metadata": {},
   "source": [
    "And of course, it also works!"
   ]
  },
  {
   "cell_type": "code",
   "execution_count": 6,
   "metadata": {
    "collapsed": false
   },
   "outputs": [
    {
     "name": "stdout",
     "output_type": "stream",
     "text": [
      "{1: 1276557, 2: 1288739, 3: 1304499, 4: 1288154, 5: 1299953, 6: 1304474, 7: 1310459, 8: 1312297, 9: 1303292, 10: 1320764, 11: 1314361, 12: 1318437, 13: 1277684, 14: 1320153, 15: 1319171, 16: 1315192, 17: 1324953, 18: 1326855, 19: 1318727, 20: 1324821, 21: 1322897, 22: 1317381, 23: 1293290, 24: 1288083, 25: 1272116, 26: 1284796, 27: 1294395, 28: 1307685, 29: 1223161, 30: 1202095, 31: 746696}\n",
      "{2000: 4058814, 2001: 4025933, 2002: 4021726, 2003: 4089950, 1994: 3952767, 1995: 3899589, 1996: 3891494, 1997: 3880894, 1998: 3941553, 1999: 3959417}\n",
      "{1: 3232517, 2: 3018140, 3: 3322069, 4: 3185314, 5: 3350907, 6: 3296530, 7: 3498783, 8: 3525858, 9: 3439698, 10: 3378814, 11: 3171647, 12: 3301860}\n",
      "{1: 5789166, 2: 6446196, 3: 6322855, 4: 6288429, 5: 6233657, 6: 4562111, 7: 4079723}\n",
      "{1: 5789166, 2: 6446196, 3: 6322855, 4: 6288429, 5: 6233657, 6: 4562111, 7: 4079723}\n"
     ]
    }
   ],
   "source": [
    "def calc_counts(data,column):\n",
    "    calc_per_group={}\n",
    "    for item in data:\n",
    "        #we extract the values we will be working with\n",
    "        ind=item[column]\n",
    "        births=item[4]\n",
    "        #check if the item in the column already exists\n",
    "        if ind in calc_per_group:\n",
    "            #if it is, we add the births to that day\n",
    "            calc_per_group[ind]=calc_per_group[ind]+births\n",
    "        else:\n",
    "            #if it is not there, we add the key an initiate value with the biths number\n",
    "            calc_per_group[ind]=births\n",
    "    #function returns grouped dictionary\n",
    "    return calc_per_group\n",
    "#use the function!\n",
    "cdc_year_births=calc_counts(cdc_list,0)\n",
    "cdc_month_births=calc_counts(cdc_list,1)\n",
    "cdc_dom_births=calc_counts(cdc_list,2)\n",
    "cdc_dow_births=calc_counts(cdc_list,3)\n",
    "print(cdc_dom_births)\n",
    "print(cdc_year_births)\n",
    "print(cdc_month_births)\n",
    "print(cdc_dow_births)\n",
    "cdc_day_births=dow_births(cdc_list)\n",
    "print(cdc_day_births)\n",
    "\n",
    "    "
   ]
  },
  {
   "cell_type": "markdown",
   "metadata": {},
   "source": [
    "Yes, it works! The last 2 items are calculating the same with different functions"
   ]
  },
  {
   "cell_type": "code",
   "execution_count": 7,
   "metadata": {
    "collapsed": false
   },
   "outputs": [
    {
     "name": "stdout",
     "output_type": "stream",
     "text": [
      "[0, 6446196]\n",
      "dict_items([(1, 5789166), (2, 6446196), (3, 6322855), (4, 6288429), (5, 6233657), (6, 4562111), (7, 4079723)])\n"
     ]
    }
   ],
   "source": [
    "def calc_min_max(data):\n",
    "    minimum=0\n",
    "    maximum=0\n",
    "    for k,v in data.items():\n",
    "        if v>maximum:\n",
    "            maximum=v\n",
    "        if minimum:\n",
    "            minimum=v\n",
    "    return [minimum,maximum]\n",
    "print(calc_min_max(cdc_day_births))\n",
    "print(cdc_day_births.items())"
   ]
  },
  {
   "cell_type": "code",
   "execution_count": 19,
   "metadata": {
    "collapsed": false
   },
   "outputs": [
    {
     "name": "stdout",
     "output_type": "stream",
     "text": [
      "[4079723, 6446196]\n",
      "dict_items([(1, 5789166), (2, 6446196), (3, 6322855), (4, 6288429), (5, 6233657), (6, 4562111), (7, 4079723)])\n",
      "5789166\n"
     ]
    }
   ],
   "source": [
    "def calc_min_max(data):\n",
    "    minimum=list(data.values())[0]\n",
    "    maximum=list(data.values())[0]\n",
    "    for k,v in data.items():\n",
    "        if v>maximum:\n",
    "            maximum=v\n",
    "        if v<minimum:\n",
    "            minimum=v\n",
    "    return [minimum,maximum]\n",
    "print(calc_min_max(cdc_day_births))\n",
    "\n",
    "#This function calculates the min and max values of a dict.\n",
    "#interesting the part of accessing to dict values:\n",
    "#We need to convert the dict values to a list and then access them form the list\n"
   ]
  },
  {
   "cell_type": "code",
   "execution_count": null,
   "metadata": {
    "collapsed": true
   },
   "outputs": [],
   "source": []
  }
 ],
 "metadata": {
  "anaconda-cloud": {},
  "kernelspec": {
   "display_name": "Python 3",
   "language": "python",
   "name": "python3"
  },
  "language_info": {
   "codemirror_mode": {
    "name": "ipython",
    "version": 3
   },
   "file_extension": ".py",
   "mimetype": "text/x-python",
   "name": "python",
   "nbconvert_exporter": "python",
   "pygments_lexer": "ipython3",
   "version": "3.4.3"
  }
 },
 "nbformat": 4,
 "nbformat_minor": 1
}
